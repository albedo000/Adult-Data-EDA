{
 "cells": [
  {
   "cell_type": "code",
   "execution_count": 5,
   "id": "72bfe0ad",
   "metadata": {
    "_cell_guid": "b1076dfc-b9ad-4769-8c92-a6c4dae69d19",
    "_uuid": "8f2839f25d086af736a60e9eeb907d3b93b6e0e5",
    "execution": {
     "iopub.execute_input": "2022-03-21T13:19:03.637927Z",
     "iopub.status.busy": "2022-03-21T13:19:03.636177Z",
     "iopub.status.idle": "2022-03-21T13:19:03.660233Z",
     "shell.execute_reply": "2022-03-21T13:19:03.660981Z",
     "shell.execute_reply.started": "2022-03-21T13:16:14.994103Z"
    },
    "papermill": {
     "duration": 0.044705,
     "end_time": "2022-03-21T13:19:03.661409",
     "exception": false,
     "start_time": "2022-03-21T13:19:03.616704",
     "status": "completed"
    },
    "tags": []
   },
   "outputs": [],
   "source": [
    "import numpy as np\n",
    "import pandas as pd"
   ]
  },
  {
   "cell_type": "markdown",
   "id": "cc67d8ac",
   "metadata": {
    "papermill": {
     "duration": 0.015715,
     "end_time": "2022-03-21T13:19:03.693947",
     "exception": false,
     "start_time": "2022-03-21T13:19:03.678232",
     "status": "completed"
    },
    "tags": []
   },
   "source": [
    "* Load the dataset."
   ]
  },
  {
   "cell_type": "code",
   "execution_count": 6,
   "id": "65b5d4ee",
   "metadata": {
    "execution": {
     "iopub.execute_input": "2022-03-21T13:19:03.726884Z",
     "iopub.status.busy": "2022-03-21T13:19:03.726171Z",
     "iopub.status.idle": "2022-03-21T13:19:03.873520Z",
     "shell.execute_reply": "2022-03-21T13:19:03.874000Z",
     "shell.execute_reply.started": "2022-03-21T13:16:15.032283Z"
    },
    "papermill": {
     "duration": 0.166548,
     "end_time": "2022-03-21T13:19:03.874188",
     "exception": false,
     "start_time": "2022-03-21T13:19:03.707640",
     "status": "completed"
    },
    "tags": []
   },
   "outputs": [
    {
     "data": {
      "text/html": [
       "<div>\n",
       "<style scoped>\n",
       "    .dataframe tbody tr th:only-of-type {\n",
       "        vertical-align: middle;\n",
       "    }\n",
       "\n",
       "    .dataframe tbody tr th {\n",
       "        vertical-align: top;\n",
       "    }\n",
       "\n",
       "    .dataframe thead th {\n",
       "        text-align: right;\n",
       "    }\n",
       "</style>\n",
       "<table border=\"1\" class=\"dataframe\">\n",
       "  <thead>\n",
       "    <tr style=\"text-align: right;\">\n",
       "      <th></th>\n",
       "      <th>age</th>\n",
       "      <th>workclass</th>\n",
       "      <th>fnlwgt</th>\n",
       "      <th>education</th>\n",
       "      <th>education-num</th>\n",
       "      <th>marital-status</th>\n",
       "      <th>occupation</th>\n",
       "      <th>relationship</th>\n",
       "      <th>race</th>\n",
       "      <th>sex</th>\n",
       "      <th>capital-gain</th>\n",
       "      <th>capital-loss</th>\n",
       "      <th>hours-per-week</th>\n",
       "      <th>native-country</th>\n",
       "      <th>salary</th>\n",
       "    </tr>\n",
       "  </thead>\n",
       "  <tbody>\n",
       "    <tr>\n",
       "      <th>0</th>\n",
       "      <td>39</td>\n",
       "      <td>State-gov</td>\n",
       "      <td>77516</td>\n",
       "      <td>Bachelors</td>\n",
       "      <td>13</td>\n",
       "      <td>Never-married</td>\n",
       "      <td>Adm-clerical</td>\n",
       "      <td>Not-in-family</td>\n",
       "      <td>White</td>\n",
       "      <td>Male</td>\n",
       "      <td>2174</td>\n",
       "      <td>0</td>\n",
       "      <td>40</td>\n",
       "      <td>United-States</td>\n",
       "      <td>&lt;=50K</td>\n",
       "    </tr>\n",
       "    <tr>\n",
       "      <th>1</th>\n",
       "      <td>50</td>\n",
       "      <td>Self-emp-not-inc</td>\n",
       "      <td>83311</td>\n",
       "      <td>Bachelors</td>\n",
       "      <td>13</td>\n",
       "      <td>Married-civ-spouse</td>\n",
       "      <td>Exec-managerial</td>\n",
       "      <td>Husband</td>\n",
       "      <td>White</td>\n",
       "      <td>Male</td>\n",
       "      <td>0</td>\n",
       "      <td>0</td>\n",
       "      <td>13</td>\n",
       "      <td>United-States</td>\n",
       "      <td>&lt;=50K</td>\n",
       "    </tr>\n",
       "    <tr>\n",
       "      <th>2</th>\n",
       "      <td>38</td>\n",
       "      <td>Private</td>\n",
       "      <td>215646</td>\n",
       "      <td>HS-grad</td>\n",
       "      <td>9</td>\n",
       "      <td>Divorced</td>\n",
       "      <td>Handlers-cleaners</td>\n",
       "      <td>Not-in-family</td>\n",
       "      <td>White</td>\n",
       "      <td>Male</td>\n",
       "      <td>0</td>\n",
       "      <td>0</td>\n",
       "      <td>40</td>\n",
       "      <td>United-States</td>\n",
       "      <td>&lt;=50K</td>\n",
       "    </tr>\n",
       "    <tr>\n",
       "      <th>3</th>\n",
       "      <td>53</td>\n",
       "      <td>Private</td>\n",
       "      <td>234721</td>\n",
       "      <td>11th</td>\n",
       "      <td>7</td>\n",
       "      <td>Married-civ-spouse</td>\n",
       "      <td>Handlers-cleaners</td>\n",
       "      <td>Husband</td>\n",
       "      <td>Black</td>\n",
       "      <td>Male</td>\n",
       "      <td>0</td>\n",
       "      <td>0</td>\n",
       "      <td>40</td>\n",
       "      <td>United-States</td>\n",
       "      <td>&lt;=50K</td>\n",
       "    </tr>\n",
       "    <tr>\n",
       "      <th>4</th>\n",
       "      <td>28</td>\n",
       "      <td>Private</td>\n",
       "      <td>338409</td>\n",
       "      <td>Bachelors</td>\n",
       "      <td>13</td>\n",
       "      <td>Married-civ-spouse</td>\n",
       "      <td>Prof-specialty</td>\n",
       "      <td>Wife</td>\n",
       "      <td>Black</td>\n",
       "      <td>Female</td>\n",
       "      <td>0</td>\n",
       "      <td>0</td>\n",
       "      <td>40</td>\n",
       "      <td>Cuba</td>\n",
       "      <td>&lt;=50K</td>\n",
       "    </tr>\n",
       "  </tbody>\n",
       "</table>\n",
       "</div>"
      ],
      "text/plain": [
       "   age         workclass  fnlwgt  education  education-num  \\\n",
       "0   39         State-gov   77516  Bachelors             13   \n",
       "1   50  Self-emp-not-inc   83311  Bachelors             13   \n",
       "2   38           Private  215646    HS-grad              9   \n",
       "3   53           Private  234721       11th              7   \n",
       "4   28           Private  338409  Bachelors             13   \n",
       "\n",
       "       marital-status         occupation   relationship   race     sex  \\\n",
       "0       Never-married       Adm-clerical  Not-in-family  White    Male   \n",
       "1  Married-civ-spouse    Exec-managerial        Husband  White    Male   \n",
       "2            Divorced  Handlers-cleaners  Not-in-family  White    Male   \n",
       "3  Married-civ-spouse  Handlers-cleaners        Husband  Black    Male   \n",
       "4  Married-civ-spouse     Prof-specialty           Wife  Black  Female   \n",
       "\n",
       "   capital-gain  capital-loss  hours-per-week native-country salary  \n",
       "0          2174             0              40  United-States  <=50K  \n",
       "1             0             0              13  United-States  <=50K  \n",
       "2             0             0              40  United-States  <=50K  \n",
       "3             0             0              40  United-States  <=50K  \n",
       "4             0             0              40           Cuba  <=50K  "
      ]
     },
     "execution_count": 6,
     "metadata": {},
     "output_type": "execute_result"
    }
   ],
   "source": [
    "df = pd.read_csv('D:\\Progetti\\Adult Data EDA\\data.csv')\n",
    "df.head(5)"
   ]
  },
  {
   "cell_type": "markdown",
   "id": "25658332",
   "metadata": {
    "papermill": {
     "duration": 0.013509,
     "end_time": "2022-03-21T13:19:03.901587",
     "exception": false,
     "start_time": "2022-03-21T13:19:03.888078",
     "status": "completed"
    },
    "tags": []
   },
   "source": [
    "* Define distribution of races."
   ]
  },
  {
   "cell_type": "code",
   "execution_count": 7,
   "id": "a52c0ab2",
   "metadata": {
    "execution": {
     "iopub.execute_input": "2022-03-21T13:19:03.937767Z",
     "iopub.status.busy": "2022-03-21T13:19:03.937067Z",
     "iopub.status.idle": "2022-03-21T13:19:03.946483Z",
     "shell.execute_reply": "2022-03-21T13:19:03.946995Z",
     "shell.execute_reply.started": "2022-03-21T13:16:15.182252Z"
    },
    "papermill": {
     "duration": 0.031799,
     "end_time": "2022-03-21T13:19:03.947195",
     "exception": false,
     "start_time": "2022-03-21T13:19:03.915396",
     "status": "completed"
    },
    "tags": []
   },
   "outputs": [
    {
     "data": {
      "text/plain": [
       "White                 27816\n",
       "Black                  3124\n",
       "Asian-Pac-Islander     1039\n",
       "Amer-Indian-Eskimo      311\n",
       "Other                   271\n",
       "Name: race, dtype: int64"
      ]
     },
     "execution_count": 7,
     "metadata": {},
     "output_type": "execute_result"
    }
   ],
   "source": [
    "df['race'].value_counts()"
   ]
  },
  {
   "cell_type": "markdown",
   "id": "fcbfbac1",
   "metadata": {
    "papermill": {
     "duration": 0.013598,
     "end_time": "2022-03-21T13:19:03.974920",
     "exception": false,
     "start_time": "2022-03-21T13:19:03.961322",
     "status": "completed"
    },
    "tags": []
   },
   "source": [
    "* What's the average age of men?"
   ]
  },
  {
   "cell_type": "code",
   "execution_count": 8,
   "id": "33c29379",
   "metadata": {
    "execution": {
     "iopub.execute_input": "2022-03-21T13:19:04.005724Z",
     "iopub.status.busy": "2022-03-21T13:19:04.005053Z",
     "iopub.status.idle": "2022-03-21T13:19:04.029461Z",
     "shell.execute_reply": "2022-03-21T13:19:04.029893Z",
     "shell.execute_reply.started": "2022-03-21T13:16:15.200019Z"
    },
    "papermill": {
     "duration": 0.041474,
     "end_time": "2022-03-21T13:19:04.030071",
     "exception": false,
     "start_time": "2022-03-21T13:19:03.988597",
     "status": "completed"
    },
    "tags": []
   },
   "outputs": [
    {
     "data": {
      "text/plain": [
       "39.4"
      ]
     },
     "execution_count": 8,
     "metadata": {},
     "output_type": "execute_result"
    }
   ],
   "source": [
    "df.groupby(by='sex').agg('mean').loc['Male', 'age'].round(1)"
   ]
  },
  {
   "cell_type": "markdown",
   "id": "edc7ed87",
   "metadata": {
    "papermill": {
     "duration": 0.013769,
     "end_time": "2022-03-21T13:19:04.059083",
     "exception": false,
     "start_time": "2022-03-21T13:19:04.045314",
     "status": "completed"
    },
    "tags": []
   },
   "source": [
    "* Percentage of people having a Bachelor's degree."
   ]
  },
  {
   "cell_type": "code",
   "execution_count": 9,
   "id": "3d95a22e",
   "metadata": {
    "execution": {
     "iopub.execute_input": "2022-03-21T13:19:04.090217Z",
     "iopub.status.busy": "2022-03-21T13:19:04.089558Z",
     "iopub.status.idle": "2022-03-21T13:19:04.097275Z",
     "shell.execute_reply": "2022-03-21T13:19:04.097661Z",
     "shell.execute_reply.started": "2022-03-21T13:16:15.231400Z"
    },
    "papermill": {
     "duration": 0.024674,
     "end_time": "2022-03-21T13:19:04.097842",
     "exception": false,
     "start_time": "2022-03-21T13:19:04.073168",
     "status": "completed"
    },
    "tags": []
   },
   "outputs": [
    {
     "data": {
      "text/plain": [
       "16.4"
      ]
     },
     "execution_count": 9,
     "metadata": {},
     "output_type": "execute_result"
    }
   ],
   "source": [
    "((df['education'].value_counts().loc['Bachelors']/len(df))*100).round(1)"
   ]
  },
  {
   "cell_type": "markdown",
   "id": "d92b0406",
   "metadata": {
    "papermill": {
     "duration": 0.013923,
     "end_time": "2022-03-21T13:19:04.126102",
     "exception": false,
     "start_time": "2022-03-21T13:19:04.112179",
     "status": "completed"
    },
    "tags": []
   },
   "source": [
    "* Define people with higher and lower education."
   ]
  },
  {
   "cell_type": "code",
   "execution_count": 10,
   "id": "903f9c84",
   "metadata": {
    "execution": {
     "iopub.execute_input": "2022-03-21T13:19:04.157959Z",
     "iopub.status.busy": "2022-03-21T13:19:04.157340Z",
     "iopub.status.idle": "2022-03-21T13:19:04.164962Z",
     "shell.execute_reply": "2022-03-21T13:19:04.165434Z",
     "shell.execute_reply.started": "2022-03-21T13:16:15.245665Z"
    },
    "papermill": {
     "duration": 0.025132,
     "end_time": "2022-03-21T13:19:04.165619",
     "exception": false,
     "start_time": "2022-03-21T13:19:04.140487",
     "status": "completed"
    },
    "tags": []
   },
   "outputs": [],
   "source": [
    "higher_education = df['education'].isin(['Bachelors', 'Masters', 'Doctorate'])\n",
    "lower_education=df['education'].isin(['Bachelors', 'Masters', 'Doctorate'])==False"
   ]
  },
  {
   "cell_type": "markdown",
   "id": "6b3e8e95",
   "metadata": {
    "papermill": {
     "duration": 0.014182,
     "end_time": "2022-03-21T13:19:04.194300",
     "exception": false,
     "start_time": "2022-03-21T13:19:04.180118",
     "status": "completed"
    },
    "tags": []
   },
   "source": [
    "* Percentage of people making more than 50K with higher education."
   ]
  },
  {
   "cell_type": "code",
   "execution_count": 11,
   "id": "1ab5d4f3",
   "metadata": {
    "execution": {
     "iopub.execute_input": "2022-03-21T13:19:04.226976Z",
     "iopub.status.busy": "2022-03-21T13:19:04.226359Z",
     "iopub.status.idle": "2022-03-21T13:19:04.237576Z",
     "shell.execute_reply": "2022-03-21T13:19:04.238048Z",
     "shell.execute_reply.started": "2022-03-21T13:16:15.256827Z"
    },
    "papermill": {
     "duration": 0.029575,
     "end_time": "2022-03-21T13:19:04.238233",
     "exception": false,
     "start_time": "2022-03-21T13:19:04.208658",
     "status": "completed"
    },
    "tags": []
   },
   "outputs": [
    {
     "data": {
      "text/plain": [
       "46.5"
      ]
     },
     "execution_count": 11,
     "metadata": {},
     "output_type": "execute_result"
    }
   ],
   "source": [
    "round(((len(df.loc[(higher_education) & (df['salary']=='>50K')])/len(df.loc[higher_education]))*100), 1)"
   ]
  },
  {
   "cell_type": "markdown",
   "id": "dccb419b",
   "metadata": {
    "papermill": {
     "duration": 0.014526,
     "end_time": "2022-03-21T13:19:04.267414",
     "exception": false,
     "start_time": "2022-03-21T13:19:04.252888",
     "status": "completed"
    },
    "tags": []
   },
   "source": [
    "* Percentage of people making more than 50K with lower education."
   ]
  },
  {
   "cell_type": "code",
   "execution_count": 12,
   "id": "5681fccd",
   "metadata": {
    "execution": {
     "iopub.execute_input": "2022-03-21T13:19:04.303194Z",
     "iopub.status.busy": "2022-03-21T13:19:04.302518Z",
     "iopub.status.idle": "2022-03-21T13:19:04.315436Z",
     "shell.execute_reply": "2022-03-21T13:19:04.315896Z",
     "shell.execute_reply.started": "2022-03-21T13:16:15.276761Z"
    },
    "papermill": {
     "duration": 0.0337,
     "end_time": "2022-03-21T13:19:04.316058",
     "exception": false,
     "start_time": "2022-03-21T13:19:04.282358",
     "status": "completed"
    },
    "tags": []
   },
   "outputs": [
    {
     "data": {
      "text/plain": [
       "17.4"
      ]
     },
     "execution_count": 12,
     "metadata": {},
     "output_type": "execute_result"
    }
   ],
   "source": [
    "round(((len(df.loc[(lower_education) & (df['salary']=='>50K')])/len(df.loc[lower_education]))*100), 1)"
   ]
  },
  {
   "cell_type": "markdown",
   "id": "beeee0e4",
   "metadata": {
    "papermill": {
     "duration": 0.014641,
     "end_time": "2022-03-21T13:19:04.345512",
     "exception": false,
     "start_time": "2022-03-21T13:19:04.330871",
     "status": "completed"
    },
    "tags": []
   },
   "source": [
    "* Minimum hours worked per week."
   ]
  },
  {
   "cell_type": "code",
   "execution_count": 13,
   "id": "8721d4ba",
   "metadata": {
    "execution": {
     "iopub.execute_input": "2022-03-21T13:19:04.382071Z",
     "iopub.status.busy": "2022-03-21T13:19:04.380969Z",
     "iopub.status.idle": "2022-03-21T13:19:04.384742Z",
     "shell.execute_reply": "2022-03-21T13:19:04.385271Z",
     "shell.execute_reply.started": "2022-03-21T13:16:15.298150Z"
    },
    "papermill": {
     "duration": 0.025059,
     "end_time": "2022-03-21T13:19:04.385454",
     "exception": false,
     "start_time": "2022-03-21T13:19:04.360395",
     "status": "completed"
    },
    "tags": []
   },
   "outputs": [
    {
     "data": {
      "text/plain": [
       "1"
      ]
     },
     "execution_count": 13,
     "metadata": {},
     "output_type": "execute_result"
    }
   ],
   "source": [
    "min_work_hours = df['hours-per-week'].min()\n",
    "min_work_hours"
   ]
  },
  {
   "cell_type": "markdown",
   "id": "edc27964",
   "metadata": {
    "papermill": {
     "duration": 0.014977,
     "end_time": "2022-03-21T13:19:04.415853",
     "exception": false,
     "start_time": "2022-03-21T13:19:04.400876",
     "status": "completed"
    },
    "tags": []
   },
   "source": [
    "* Percentage of people making more than 50K and working minimum working hours."
   ]
  },
  {
   "cell_type": "code",
   "execution_count": 14,
   "id": "6f3f7974",
   "metadata": {
    "execution": {
     "iopub.execute_input": "2022-03-21T13:19:04.451816Z",
     "iopub.status.busy": "2022-03-21T13:19:04.451180Z",
     "iopub.status.idle": "2022-03-21T13:19:04.458771Z",
     "shell.execute_reply": "2022-03-21T13:19:04.459264Z",
     "shell.execute_reply.started": "2022-03-21T13:16:15.308351Z"
    },
    "papermill": {
     "duration": 0.028155,
     "end_time": "2022-03-21T13:19:04.459435",
     "exception": false,
     "start_time": "2022-03-21T13:19:04.431280",
     "status": "completed"
    },
    "tags": []
   },
   "outputs": [
    {
     "data": {
      "text/plain": [
       "10"
      ]
     },
     "execution_count": 14,
     "metadata": {},
     "output_type": "execute_result"
    }
   ],
   "source": [
    "int((len(df.loc[(df['hours-per-week']==1) & (df['salary']=='>50K')])/len(df.loc[df['hours-per-week']==min_work_hours]))*100)"
   ]
  },
  {
   "cell_type": "markdown",
   "id": "913ede16",
   "metadata": {
    "papermill": {
     "duration": 0.015176,
     "end_time": "2022-03-21T13:19:04.490337",
     "exception": false,
     "start_time": "2022-03-21T13:19:04.475161",
     "status": "completed"
    },
    "tags": []
   },
   "source": [
    "* Country having highest percentage of people making higher salary."
   ]
  },
  {
   "cell_type": "code",
   "execution_count": 15,
   "id": "9dc3efc0",
   "metadata": {
    "execution": {
     "iopub.execute_input": "2022-03-21T13:19:04.525002Z",
     "iopub.status.busy": "2022-03-21T13:19:04.524387Z",
     "iopub.status.idle": "2022-03-21T13:19:04.550933Z",
     "shell.execute_reply": "2022-03-21T13:19:04.551450Z",
     "shell.execute_reply.started": "2022-03-21T13:16:15.327097Z"
    },
    "papermill": {
     "duration": 0.045796,
     "end_time": "2022-03-21T13:19:04.551671",
     "exception": false,
     "start_time": "2022-03-21T13:19:04.505875",
     "status": "completed"
    },
    "tags": []
   },
   "outputs": [
    {
     "data": {
      "text/html": [
       "<div>\n",
       "<style scoped>\n",
       "    .dataframe tbody tr th:only-of-type {\n",
       "        vertical-align: middle;\n",
       "    }\n",
       "\n",
       "    .dataframe tbody tr th {\n",
       "        vertical-align: top;\n",
       "    }\n",
       "\n",
       "    .dataframe thead th {\n",
       "        text-align: right;\n",
       "    }\n",
       "</style>\n",
       "<table border=\"1\" class=\"dataframe\">\n",
       "  <thead>\n",
       "    <tr style=\"text-align: right;\">\n",
       "      <th></th>\n",
       "      <th>Country</th>\n",
       "      <th>Percentage</th>\n",
       "    </tr>\n",
       "  </thead>\n",
       "  <tbody>\n",
       "    <tr>\n",
       "      <th>0</th>\n",
       "      <td>?</td>\n",
       "      <td>25.0</td>\n",
       "    </tr>\n",
       "    <tr>\n",
       "      <th>1</th>\n",
       "      <td>Cambodia</td>\n",
       "      <td>36.8</td>\n",
       "    </tr>\n",
       "    <tr>\n",
       "      <th>2</th>\n",
       "      <td>Canada</td>\n",
       "      <td>32.2</td>\n",
       "    </tr>\n",
       "    <tr>\n",
       "      <th>3</th>\n",
       "      <td>China</td>\n",
       "      <td>26.7</td>\n",
       "    </tr>\n",
       "    <tr>\n",
       "      <th>4</th>\n",
       "      <td>Columbia</td>\n",
       "      <td>3.4</td>\n",
       "    </tr>\n",
       "    <tr>\n",
       "      <th>5</th>\n",
       "      <td>Cuba</td>\n",
       "      <td>26.3</td>\n",
       "    </tr>\n",
       "    <tr>\n",
       "      <th>6</th>\n",
       "      <td>Dominican-Republic</td>\n",
       "      <td>2.9</td>\n",
       "    </tr>\n",
       "    <tr>\n",
       "      <th>7</th>\n",
       "      <td>Ecuador</td>\n",
       "      <td>14.3</td>\n",
       "    </tr>\n",
       "    <tr>\n",
       "      <th>8</th>\n",
       "      <td>El-Salvador</td>\n",
       "      <td>8.5</td>\n",
       "    </tr>\n",
       "    <tr>\n",
       "      <th>9</th>\n",
       "      <td>England</td>\n",
       "      <td>33.3</td>\n",
       "    </tr>\n",
       "    <tr>\n",
       "      <th>10</th>\n",
       "      <td>France</td>\n",
       "      <td>41.4</td>\n",
       "    </tr>\n",
       "    <tr>\n",
       "      <th>11</th>\n",
       "      <td>Germany</td>\n",
       "      <td>32.1</td>\n",
       "    </tr>\n",
       "    <tr>\n",
       "      <th>12</th>\n",
       "      <td>Greece</td>\n",
       "      <td>27.6</td>\n",
       "    </tr>\n",
       "    <tr>\n",
       "      <th>13</th>\n",
       "      <td>Guatemala</td>\n",
       "      <td>4.7</td>\n",
       "    </tr>\n",
       "    <tr>\n",
       "      <th>14</th>\n",
       "      <td>Haiti</td>\n",
       "      <td>9.1</td>\n",
       "    </tr>\n",
       "    <tr>\n",
       "      <th>15</th>\n",
       "      <td>Holand-Netherlands</td>\n",
       "      <td>NaN</td>\n",
       "    </tr>\n",
       "    <tr>\n",
       "      <th>16</th>\n",
       "      <td>Honduras</td>\n",
       "      <td>7.7</td>\n",
       "    </tr>\n",
       "    <tr>\n",
       "      <th>17</th>\n",
       "      <td>Hong</td>\n",
       "      <td>30.0</td>\n",
       "    </tr>\n",
       "    <tr>\n",
       "      <th>18</th>\n",
       "      <td>Hungary</td>\n",
       "      <td>23.1</td>\n",
       "    </tr>\n",
       "    <tr>\n",
       "      <th>19</th>\n",
       "      <td>India</td>\n",
       "      <td>40.0</td>\n",
       "    </tr>\n",
       "    <tr>\n",
       "      <th>20</th>\n",
       "      <td>Iran</td>\n",
       "      <td>41.9</td>\n",
       "    </tr>\n",
       "    <tr>\n",
       "      <th>21</th>\n",
       "      <td>Ireland</td>\n",
       "      <td>20.8</td>\n",
       "    </tr>\n",
       "    <tr>\n",
       "      <th>22</th>\n",
       "      <td>Italy</td>\n",
       "      <td>34.2</td>\n",
       "    </tr>\n",
       "    <tr>\n",
       "      <th>23</th>\n",
       "      <td>Jamaica</td>\n",
       "      <td>12.3</td>\n",
       "    </tr>\n",
       "    <tr>\n",
       "      <th>24</th>\n",
       "      <td>Japan</td>\n",
       "      <td>38.7</td>\n",
       "    </tr>\n",
       "    <tr>\n",
       "      <th>25</th>\n",
       "      <td>Laos</td>\n",
       "      <td>11.1</td>\n",
       "    </tr>\n",
       "    <tr>\n",
       "      <th>26</th>\n",
       "      <td>Mexico</td>\n",
       "      <td>5.1</td>\n",
       "    </tr>\n",
       "    <tr>\n",
       "      <th>27</th>\n",
       "      <td>Nicaragua</td>\n",
       "      <td>5.9</td>\n",
       "    </tr>\n",
       "    <tr>\n",
       "      <th>28</th>\n",
       "      <td>Outlying-US(Guam-USVI-etc)</td>\n",
       "      <td>NaN</td>\n",
       "    </tr>\n",
       "    <tr>\n",
       "      <th>29</th>\n",
       "      <td>Peru</td>\n",
       "      <td>6.5</td>\n",
       "    </tr>\n",
       "    <tr>\n",
       "      <th>30</th>\n",
       "      <td>Philippines</td>\n",
       "      <td>30.8</td>\n",
       "    </tr>\n",
       "    <tr>\n",
       "      <th>31</th>\n",
       "      <td>Poland</td>\n",
       "      <td>20.0</td>\n",
       "    </tr>\n",
       "    <tr>\n",
       "      <th>32</th>\n",
       "      <td>Portugal</td>\n",
       "      <td>10.8</td>\n",
       "    </tr>\n",
       "    <tr>\n",
       "      <th>33</th>\n",
       "      <td>Puerto-Rico</td>\n",
       "      <td>10.5</td>\n",
       "    </tr>\n",
       "    <tr>\n",
       "      <th>34</th>\n",
       "      <td>Scotland</td>\n",
       "      <td>25.0</td>\n",
       "    </tr>\n",
       "    <tr>\n",
       "      <th>35</th>\n",
       "      <td>South</td>\n",
       "      <td>20.0</td>\n",
       "    </tr>\n",
       "    <tr>\n",
       "      <th>36</th>\n",
       "      <td>Taiwan</td>\n",
       "      <td>39.2</td>\n",
       "    </tr>\n",
       "    <tr>\n",
       "      <th>37</th>\n",
       "      <td>Thailand</td>\n",
       "      <td>16.7</td>\n",
       "    </tr>\n",
       "    <tr>\n",
       "      <th>38</th>\n",
       "      <td>Trinadad&amp;Tobago</td>\n",
       "      <td>10.5</td>\n",
       "    </tr>\n",
       "    <tr>\n",
       "      <th>39</th>\n",
       "      <td>United-States</td>\n",
       "      <td>24.6</td>\n",
       "    </tr>\n",
       "    <tr>\n",
       "      <th>40</th>\n",
       "      <td>Vietnam</td>\n",
       "      <td>7.5</td>\n",
       "    </tr>\n",
       "    <tr>\n",
       "      <th>41</th>\n",
       "      <td>Yugoslavia</td>\n",
       "      <td>37.5</td>\n",
       "    </tr>\n",
       "  </tbody>\n",
       "</table>\n",
       "</div>"
      ],
      "text/plain": [
       "                       Country  Percentage\n",
       "0                            ?        25.0\n",
       "1                     Cambodia        36.8\n",
       "2                       Canada        32.2\n",
       "3                        China        26.7\n",
       "4                     Columbia         3.4\n",
       "5                         Cuba        26.3\n",
       "6           Dominican-Republic         2.9\n",
       "7                      Ecuador        14.3\n",
       "8                  El-Salvador         8.5\n",
       "9                      England        33.3\n",
       "10                      France        41.4\n",
       "11                     Germany        32.1\n",
       "12                      Greece        27.6\n",
       "13                   Guatemala         4.7\n",
       "14                       Haiti         9.1\n",
       "15          Holand-Netherlands         NaN\n",
       "16                    Honduras         7.7\n",
       "17                        Hong        30.0\n",
       "18                     Hungary        23.1\n",
       "19                       India        40.0\n",
       "20                        Iran        41.9\n",
       "21                     Ireland        20.8\n",
       "22                       Italy        34.2\n",
       "23                     Jamaica        12.3\n",
       "24                       Japan        38.7\n",
       "25                        Laos        11.1\n",
       "26                      Mexico         5.1\n",
       "27                   Nicaragua         5.9\n",
       "28  Outlying-US(Guam-USVI-etc)         NaN\n",
       "29                        Peru         6.5\n",
       "30                 Philippines        30.8\n",
       "31                      Poland        20.0\n",
       "32                    Portugal        10.8\n",
       "33                 Puerto-Rico        10.5\n",
       "34                    Scotland        25.0\n",
       "35                       South        20.0\n",
       "36                      Taiwan        39.2\n",
       "37                    Thailand        16.7\n",
       "38             Trinadad&Tobago        10.5\n",
       "39               United-States        24.6\n",
       "40                     Vietnam         7.5\n",
       "41                  Yugoslavia        37.5"
      ]
     },
     "execution_count": 15,
     "metadata": {},
     "output_type": "execute_result"
    }
   ],
   "source": [
    "perc = round((df['native-country'][df['salary'] == '>50K'].value_counts() / df['native-country'].value_counts())*100, 1)\n",
    "perc_country = pd.DataFrame(perc)\n",
    "perc_country.reset_index(inplace=True)\n",
    "perc_country.rename(columns = {'index':'Country', 'native-country':'Percentage'}, inplace=True)\n",
    "perc_country.Percentage.astype(float)\n",
    "perc_country"
   ]
  },
  {
   "cell_type": "code",
   "execution_count": 16,
   "id": "d0858dc3",
   "metadata": {
    "execution": {
     "iopub.execute_input": "2022-03-21T13:19:04.587366Z",
     "iopub.status.busy": "2022-03-21T13:19:04.586711Z",
     "iopub.status.idle": "2022-03-21T13:19:04.599462Z",
     "shell.execute_reply": "2022-03-21T13:19:04.599933Z",
     "shell.execute_reply.started": "2022-03-21T13:16:15.362624Z"
    },
    "papermill": {
     "duration": 0.032292,
     "end_time": "2022-03-21T13:19:04.600140",
     "exception": false,
     "start_time": "2022-03-21T13:19:04.567848",
     "status": "completed"
    },
    "tags": []
   },
   "outputs": [
    {
     "data": {
      "text/plain": [
       "41.9"
      ]
     },
     "execution_count": 16,
     "metadata": {},
     "output_type": "execute_result"
    }
   ],
   "source": [
    "top_salary_percentage = round((df['native-country'][df['salary'] == '>50K'].value_counts() / df['native-country'].value_counts())*100, 1).max()\n",
    "top_salary_percentage"
   ]
  },
  {
   "cell_type": "code",
   "execution_count": 17,
   "id": "8aefa271",
   "metadata": {
    "execution": {
     "iopub.execute_input": "2022-03-21T13:19:04.636219Z",
     "iopub.status.busy": "2022-03-21T13:19:04.635553Z",
     "iopub.status.idle": "2022-03-21T13:19:04.642594Z",
     "shell.execute_reply": "2022-03-21T13:19:04.643086Z",
     "shell.execute_reply.started": "2022-03-21T13:17:45.102415Z"
    },
    "papermill": {
     "duration": 0.02685,
     "end_time": "2022-03-21T13:19:04.643280",
     "exception": false,
     "start_time": "2022-03-21T13:19:04.616430",
     "status": "completed"
    },
    "tags": []
   },
   "outputs": [
    {
     "data": {
      "text/plain": [
       "20    Iran\n",
       "Name: Country, dtype: object"
      ]
     },
     "execution_count": 17,
     "metadata": {},
     "output_type": "execute_result"
    }
   ],
   "source": [
    "country_top_salary = perc_country.loc[perc_country.Percentage == top_salary_percentage].Country\n",
    "country_top_salary"
   ]
  },
  {
   "cell_type": "markdown",
   "id": "3fd65441",
   "metadata": {
    "papermill": {
     "duration": 0.016444,
     "end_time": "2022-03-21T13:19:04.676859",
     "exception": false,
     "start_time": "2022-03-21T13:19:04.660415",
     "status": "completed"
    },
    "tags": []
   },
   "source": [
    "* Most popular occupation of India."
   ]
  },
  {
   "cell_type": "code",
   "execution_count": 18,
   "id": "f2e19b31",
   "metadata": {
    "execution": {
     "iopub.execute_input": "2022-03-21T13:19:04.713502Z",
     "iopub.status.busy": "2022-03-21T13:19:04.712901Z",
     "iopub.status.idle": "2022-03-21T13:19:04.727582Z",
     "shell.execute_reply": "2022-03-21T13:19:04.728079Z",
     "shell.execute_reply.started": "2022-03-21T13:16:15.401068Z"
    },
    "papermill": {
     "duration": 0.034482,
     "end_time": "2022-03-21T13:19:04.728273",
     "exception": false,
     "start_time": "2022-03-21T13:19:04.693791",
     "status": "completed"
    },
    "tags": []
   },
   "outputs": [
    {
     "data": {
      "text/plain": [
       "Prof-specialty      25\n",
       "Exec-managerial      8\n",
       "Other-service        2\n",
       "Tech-support         2\n",
       "Transport-moving     1\n",
       "Sales                1\n",
       "Adm-clerical         1\n",
       "Name: occupation, dtype: int64"
      ]
     },
     "execution_count": 18,
     "metadata": {},
     "output_type": "execute_result"
    }
   ],
   "source": [
    "df['occupation'][df['native-country']=='India'][df['salary']=='>50K'].value_counts()"
   ]
  }
 ],
 "metadata": {
  "kernelspec": {
   "display_name": "Python 3",
   "language": "python",
   "name": "python3"
  },
  "language_info": {
   "codemirror_mode": {
    "name": "ipython",
    "version": 3
   },
   "file_extension": ".py",
   "mimetype": "text/x-python",
   "name": "python",
   "nbconvert_exporter": "python",
   "pygments_lexer": "ipython3",
   "version": "3.10.4"
  },
  "papermill": {
   "default_parameters": {},
   "duration": 10.97122,
   "end_time": "2022-03-21T13:19:06.297334",
   "environment_variables": {},
   "exception": null,
   "input_path": "__notebook__.ipynb",
   "output_path": "__notebook__.ipynb",
   "parameters": {},
   "start_time": "2022-03-21T13:18:55.326114",
   "version": "2.3.3"
  }
 },
 "nbformat": 4,
 "nbformat_minor": 5
}
